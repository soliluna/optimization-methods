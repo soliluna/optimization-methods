{
 "cells": [
  {
   "cell_type": "markdown",
   "id": "d982f72c",
   "metadata": {},
   "source": [
    "# Вариант 2"
   ]
  },
  {
   "cell_type": "code",
   "execution_count": 2,
   "id": "f43923c6",
   "metadata": {},
   "outputs": [],
   "source": [
    "import numpy as np\n",
    "import matplotlib.pyplot as plt\n",
    "from matplotlib.animation import FuncAnimation\n",
    "import seaborn as sns\n",
    "import time\n",
    "\n",
    "%matplotlib qt"
   ]
  },
  {
   "cell_type": "code",
   "execution_count": 3,
   "id": "ec5d56a2",
   "metadata": {},
   "outputs": [],
   "source": [
    "# объявление функции\n",
    "def my_func(x):\n",
    "    \"\"\"Возвращает значение функции в заданной точке.\"\"\"\n",
    "    a_0 = 5 \n",
    "    a_1 = 3\n",
    "    a_2 = 7\n",
    "    a_3 = 1\n",
    "    return x ** 4 + a_3 * x ** 3 + a_2 * x ** 2 + a_1 * x + a_0\n",
    "\n",
    "\n",
    "# объявление первой производной функции\n",
    "def my_func_first_derivative(x):\n",
    "    \"\"\"Возвращает значение первой производной функции в заданной точке.\"\"\"\n",
    "    a_0 = 5 \n",
    "    a_1 = 3\n",
    "    a_2 = 7\n",
    "    a_3 = 1\n",
    "    return 4 * x ** 3 + 3 * a_3 * x ** 2 + 2 * a_2 * x + a_1\n",
    "\n",
    "\n",
    "# объявление второй производной функции\n",
    "def my_func_second_derivative(x):\n",
    "    \"\"\"Возвращает значение второй производной функции в заданной точке.\"\"\"\n",
    "    a_0 = 5 \n",
    "    a_1 = 3\n",
    "    a_2 = 7\n",
    "    a_3 = 1\n",
    "    return 3 * 4 * x ** 2 + 2 * 3 * a_3 * x + 2 * a_2"
   ]
  },
  {
   "cell_type": "markdown",
   "id": "0d2ecc05",
   "metadata": {},
   "source": [
    "## Метод касательных (Ньютона)"
   ]
  },
  {
   "cell_type": "markdown",
   "id": "37ce2af4",
   "metadata": {},
   "source": [
    "### 1. Анализ графиков функции, ее первой производной и ее второй производной"
   ]
  },
  {
   "cell_type": "code",
   "execution_count": 4,
   "id": "2f373faf",
   "metadata": {},
   "outputs": [],
   "source": [
    "fig, ax = plt.subplots(figsize=(10, 7))\n",
    "ax.axis([-4.5, 4.5, -250, 400])\n",
    "\n",
    "fig.suptitle('Функция и ее первые две производные',\n",
    "             fontsize='x-large', fontweight='semibold'\n",
    "            )\n",
    "\n",
    "x = np.arange(-4.5, 4.5, 0.1)\n",
    "y_1 = [my_func(i) for i in x]\n",
    "y_2 = [my_func_first_derivative(i) for i in x]\n",
    "y_3 = [my_func_second_derivative(i) for i in x]\n",
    "\n",
    "sns.lineplot(x=x, y=y_1, color='purple')\n",
    "sns.lineplot(x=x, y=y_2, color='navy')\n",
    "sns.lineplot(x=x, y=y_3, color='darkgreen')\n",
    "\n",
    "sns.set_theme()\n",
    "plt.show()"
   ]
  },
  {
   "cell_type": "markdown",
   "id": "36f422ba",
   "metadata": {},
   "source": [
    "### 2. Реализация алгоритма"
   ]
  },
  {
   "cell_type": "code",
   "execution_count": 5,
   "id": "622b65c1",
   "metadata": {},
   "outputs": [
    {
     "name": "stdout",
     "output_type": "stream",
     "text": [
      "k = 1  x_(k+1) = 1.71429    f(x_(k+1)) = 44.38859  \n",
      "k = 2  x_(k+1) = 0.77445    f(x_(k+1)) = 12.34605  \n",
      "k = 3  x_(k+1) = 0.09733    f(x_(k+1)) = 5.35930   \n",
      "k = 4  x_(k+1) = -0.20168   f(x_(k+1)) = 4.67314   \n",
      "k = 5  x_(k+1) = -0.22169   f(x_(k+1)) = 4.67048   \n",
      "k = 6  x_(k+1) = -0.22170   f(x_(k+1)) = 4.67048   \n",
      "\n",
      "Количество итераций: 6\n",
      "Оценка x*: -0.222\n",
      "Оценка f(x*): 4.670\n"
     ]
    }
   ],
   "source": [
    "# условие задачи\n",
    "epsilon = 0.0001\n",
    "x0 = 3\n",
    "k = 0\n",
    "\n",
    "# списки для визуализации\n",
    "list_of_x1 = []\n",
    "list_of_f1 = []\n",
    "\n",
    "# реализация алгоритма\n",
    "while True:\n",
    "    k += 1\n",
    "    x1 = x0 - my_func_first_derivative(x0) / my_func_second_derivative(x0)\n",
    "    f1 = my_func(x1)\n",
    "\n",
    "    list_of_x1.append(x1)\n",
    "    list_of_f1.append(f1)\n",
    "\n",
    "    print(\"k = %-2.d x_(k+1) = %-10.5f f(x_(k+1)) = %-10.5f\" % (k, x1, f1))\n",
    "  \n",
    "    if abs(x1 - x0) <= epsilon:\n",
    "        break\n",
    "  \n",
    "    x0 = x1\n",
    "\n",
    "print('\\nКоличество итераций:', k)\n",
    "print('Оценка x*: %.3f' % x1)\n",
    "print('Оценка f(x*): %.3f' % f1)"
   ]
  },
  {
   "cell_type": "markdown",
   "id": "de5908f4",
   "metadata": {},
   "source": [
    "### 3. Визуализация алгоритма"
   ]
  },
  {
   "cell_type": "code",
   "execution_count": 6,
   "id": "16abb0cd",
   "metadata": {},
   "outputs": [],
   "source": [
    "# визуализация алгоритма\n",
    "fig, ax = plt.subplots(figsize=(10, 7))\n",
    "ax.axis([-4.5, 4.5, 0, 400])\n",
    "\n",
    "fig.suptitle('Метод касательных (Ньютона)',\n",
    "             fontsize='x-large', fontweight='semibold'\n",
    "            )\n",
    "\n",
    "x = np.arange(-4.5, 4.5, 0.1)\n",
    "y = [my_func(i) for i in x]\n",
    "\n",
    "sns.lineplot(x=x, y=y, color='navy')\n",
    "ax.scatter(3, my_func(3), color='magenta')\n",
    "\n",
    "\n",
    "def animate(i):\n",
    "    \"\"\"Рисует точку x_(k+1) на каждой итерации.\"\"\"\n",
    "    ax.scatter(list_of_x1[i], list_of_f1[i], color='Red')\n",
    "    \n",
    "    time.sleep(0.5)\n",
    "    \n",
    "\n",
    "ani = FuncAnimation(fig, animate, frames=k-1, interval=500, repeat=False)\n",
    "\n",
    "sns.set_theme()\n",
    "plt.show()"
   ]
  },
  {
   "cell_type": "markdown",
   "id": "595b0bf0",
   "metadata": {},
   "source": [
    "### 4. Изменение точности"
   ]
  },
  {
   "cell_type": "code",
   "execution_count": 7,
   "id": "c855b12a",
   "metadata": {},
   "outputs": [
    {
     "name": "stdout",
     "output_type": "stream",
     "text": [
      "k = 1  x_(k+1) = 1.71429    f(x_(k+1)) = 44.38859  \n",
      "k = 2  x_(k+1) = 0.77445    f(x_(k+1)) = 12.34605  \n",
      "k = 3  x_(k+1) = 0.09733    f(x_(k+1)) = 5.35930   \n",
      "k = 4  x_(k+1) = -0.20168   f(x_(k+1)) = 4.67314   \n",
      "k = 5  x_(k+1) = -0.22169   f(x_(k+1)) = 4.67048   \n",
      "\n",
      "Количество итераций: 5\n",
      "Оценка x*: -0.222\n",
      "Оценка f(x*): 4.670\n",
      "--------------------------------------------------\n",
      "k = 1  x_(k+1) = 1.71429    f(x_(k+1)) = 44.38859  \n",
      "k = 2  x_(k+1) = 0.77445    f(x_(k+1)) = 12.34605  \n",
      "k = 3  x_(k+1) = 0.09733    f(x_(k+1)) = 5.35930   \n",
      "k = 4  x_(k+1) = -0.20168   f(x_(k+1)) = 4.67314   \n",
      "k = 5  x_(k+1) = -0.22169   f(x_(k+1)) = 4.67048   \n",
      "k = 6  x_(k+1) = -0.22170   f(x_(k+1)) = 4.67048   \n",
      "\n",
      "Количество итераций: 6\n",
      "Оценка x*: -0.222\n",
      "Оценка f(x*): 4.670\n",
      "--------------------------------------------------\n",
      "k = 1  x_(k+1) = 1.71429    f(x_(k+1)) = 44.38859  \n",
      "k = 2  x_(k+1) = 0.77445    f(x_(k+1)) = 12.34605  \n",
      "k = 3  x_(k+1) = 0.09733    f(x_(k+1)) = 5.35930   \n",
      "k = 4  x_(k+1) = -0.20168   f(x_(k+1)) = 4.67314   \n",
      "k = 5  x_(k+1) = -0.22169   f(x_(k+1)) = 4.67048   \n",
      "k = 6  x_(k+1) = -0.22170   f(x_(k+1)) = 4.67048   \n",
      "\n",
      "Количество итераций: 6\n",
      "Оценка x*: -0.222\n",
      "Оценка f(x*): 4.670\n",
      "--------------------------------------------------\n",
      "k = 1  x_(k+1) = 1.71429    f(x_(k+1)) = 44.38859  \n",
      "k = 2  x_(k+1) = 0.77445    f(x_(k+1)) = 12.34605  \n",
      "k = 3  x_(k+1) = 0.09733    f(x_(k+1)) = 5.35930   \n",
      "k = 4  x_(k+1) = -0.20168   f(x_(k+1)) = 4.67314   \n",
      "k = 5  x_(k+1) = -0.22169   f(x_(k+1)) = 4.67048   \n",
      "k = 6  x_(k+1) = -0.22170   f(x_(k+1)) = 4.67048   \n",
      "\n",
      "Количество итераций: 6\n",
      "Оценка x*: -0.222\n",
      "Оценка f(x*): 4.670\n",
      "--------------------------------------------------\n",
      "k = 1  x_(k+1) = 1.71429    f(x_(k+1)) = 44.38859  \n",
      "k = 2  x_(k+1) = 0.77445    f(x_(k+1)) = 12.34605  \n",
      "k = 3  x_(k+1) = 0.09733    f(x_(k+1)) = 5.35930   \n",
      "k = 4  x_(k+1) = -0.20168   f(x_(k+1)) = 4.67314   \n",
      "k = 5  x_(k+1) = -0.22169   f(x_(k+1)) = 4.67048   \n",
      "k = 6  x_(k+1) = -0.22170   f(x_(k+1)) = 4.67048   \n",
      "k = 7  x_(k+1) = -0.22170   f(x_(k+1)) = 4.67048   \n",
      "\n",
      "Количество итераций: 7\n",
      "Оценка x*: -0.222\n",
      "Оценка f(x*): 4.670\n",
      "--------------------------------------------------\n",
      "k = 1  x_(k+1) = 1.71429    f(x_(k+1)) = 44.38859  \n",
      "k = 2  x_(k+1) = 0.77445    f(x_(k+1)) = 12.34605  \n",
      "k = 3  x_(k+1) = 0.09733    f(x_(k+1)) = 5.35930   \n",
      "k = 4  x_(k+1) = -0.20168   f(x_(k+1)) = 4.67314   \n",
      "k = 5  x_(k+1) = -0.22169   f(x_(k+1)) = 4.67048   \n",
      "k = 6  x_(k+1) = -0.22170   f(x_(k+1)) = 4.67048   \n",
      "k = 7  x_(k+1) = -0.22170   f(x_(k+1)) = 4.67048   \n",
      "\n",
      "Количество итераций: 7\n",
      "Оценка x*: -0.222\n",
      "Оценка f(x*): 4.670\n",
      "--------------------------------------------------\n"
     ]
    }
   ],
   "source": [
    "for n in range(1, 7):\n",
    "    epsilon = 10 ** (-n)\n",
    "    x0 = 3\n",
    "    k = 0\n",
    "\n",
    "    while True:\n",
    "        k += 1\n",
    "        x1 = x0 - my_func_first_derivative(x0) / my_func_second_derivative(x0)\n",
    "        f1 = my_func(x1)\n",
    "\n",
    "        list_of_x1.append(x1)\n",
    "        list_of_f1.append(f1)\n",
    "\n",
    "        print(\"k = %-2.d x_(k+1) = %-10.5f f(x_(k+1)) = %-10.5f\" % (k, x1, f1))\n",
    "  \n",
    "        if abs(x1 - x0) <= epsilon:\n",
    "            break\n",
    "  \n",
    "        x0 = x1\n",
    "  \n",
    "    print('\\nКоличество итераций:', k)\n",
    "    print('Оценка x*: %.3f' % x1)\n",
    "    print('Оценка f(x*): %.3f' % f1)\n",
    "    print('-' * 50)"
   ]
  }
 ],
 "metadata": {
  "kernelspec": {
   "display_name": "Python 3 (ipykernel)",
   "language": "python",
   "name": "python3"
  },
  "language_info": {
   "codemirror_mode": {
    "name": "ipython",
    "version": 3
   },
   "file_extension": ".py",
   "mimetype": "text/x-python",
   "name": "python",
   "nbconvert_exporter": "python",
   "pygments_lexer": "ipython3",
   "version": "3.9.6"
  }
 },
 "nbformat": 4,
 "nbformat_minor": 5
}
