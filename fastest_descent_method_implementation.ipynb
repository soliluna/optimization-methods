{
 "cells": [
  {
   "cell_type": "code",
   "execution_count": null,
   "id": "df5cee84",
   "metadata": {},
   "outputs": [],
   "source": [
    "# pip install sympy"
   ]
  },
  {
   "cell_type": "code",
   "execution_count": 9,
   "id": "da739b28",
   "metadata": {},
   "outputs": [],
   "source": [
    "import math as m\n",
    "from sympy import diff, lambdify, symbols"
   ]
  },
  {
   "cell_type": "markdown",
   "id": "6d5d566b",
   "metadata": {},
   "source": [
    "# Реализация алгоритма"
   ]
  },
  {
   "cell_type": "code",
   "execution_count": 10,
   "id": "1c2fd67f",
   "metadata": {},
   "outputs": [],
   "source": [
    "def my_f(x1, x2):\n",
    "    \"\"\"Возвращает значение функции двух переменных в заданной точке.\"\"\"\n",
    "    x_1, x_2 = symbols('x_1 x_2')\n",
    "    expr = 2 * x_1 ** 2 + 5 * x_2 ** 2 + x_1 * x_2 - 3 * x_1 - x_2\n",
    "    f = lambdify([x_1, x_2], expr, 'numpy')\n",
    "    return expr, f(x1, x2)"
   ]
  },
  {
   "cell_type": "code",
   "execution_count": 11,
   "id": "42ce8d94",
   "metadata": {},
   "outputs": [],
   "source": [
    "def grad_f(x1, x2):\n",
    "    \"\"\"Возвращает градиент функции двух переменных в заданной точке.\"\"\"\n",
    "    f = my_f(x1, x2)[0]\n",
    "    x_1, x_2 = symbols('x_1 x_2')\n",
    "    dfdx1, dfdx2 = diff(f, x_1), diff(f, x_2)\n",
    "    partial_1 = lambdify([x_1, x_2], dfdx1, 'numpy')\n",
    "    partial_2 = lambdify([x_1, x_2], dfdx2, 'numpy')\n",
    "    return [partial_1(x1, x2), partial_2(x1, x2)]"
   ]
  },
  {
   "cell_type": "code",
   "execution_count": 12,
   "id": "05a7f414",
   "metadata": {},
   "outputs": [],
   "source": [
    "def grad_norm(x1, x2):\n",
    "    \"\"\"\n",
    "    Возвращает значение нормы градиента функции двух переменных \n",
    "    в заданной точке.\n",
    "    \"\"\"\n",
    "    return sum(map(lambda x: m.pow(x, 2), grad_f(x1, x2)))"
   ]
  },
  {
   "cell_type": "code",
   "execution_count": 13,
   "id": "8d58370a",
   "metadata": {},
   "outputs": [],
   "source": [
    "def dichotomy_method(x1, x2, a=-10, b=20, epsilon=0.0001):\n",
    "    \"\"\"\n",
    "    Реализует метод дихотомии. Возвращает значение шага (alpha) \n",
    "    для метода наискорейшего спуска.\n",
    "    \"\"\"\n",
    "    alpha = symbols('alpha')\n",
    "    x_1 = x1 - alpha * grad_f(x1, x2)[0]\n",
    "    x_2 = x2 - alpha * grad_f(x1, x2)[1]\n",
    "    f = my_f(x_1, x_2)[1]                   # минимизируем: в символьном виде\n",
    "    f_lambda = lambdify(alpha, f, 'numpy')  # минимизируем: в численном виде\n",
    "    delta = epsilon / 2\n",
    "    k = 0\n",
    "\n",
    "    while True:\n",
    "        k += 1\n",
    "        alpha_1 = (a + b - delta) / 2\n",
    "        alpha_2 = alpha_1 + delta\n",
    "        f_1 = f_lambda(alpha_1)\n",
    "        f_2 = f_lambda(alpha_2)\n",
    "    \n",
    "        epsilon_k = (b - a) / 2\n",
    "\n",
    "        if epsilon_k <= epsilon:\n",
    "            break\n",
    "\n",
    "        if f_1 <= f_2:\n",
    "            b = alpha_2\n",
    "        else:\n",
    "            a = alpha_1\n",
    "  \n",
    "    alpha = (b + a) / 2\n",
    "    return alpha"
   ]
  },
  {
   "cell_type": "code",
   "execution_count": 14,
   "id": "540ef390",
   "metadata": {},
   "outputs": [
    {
     "name": "stdout",
     "output_type": "stream",
     "text": [
      "k = 1   x1 = 1.00000    x2 = 1.00000    f(X) = 4.00000   \n",
      "k = 2   x1 = 0.80311    x2 = 0.01554    f(X) = -1.12121  \n",
      "k = 3   x1 = 0.74375    x2 = 0.02635    f(X) = -1.12820  \n"
     ]
    }
   ],
   "source": [
    "# реализация алгоритма\n",
    "x1_0, x2_0 = 1, 1\n",
    "f_0 = my_f(x1_0, x1_0)[1]\n",
    "epsilon = 0.0001\n",
    "k = 1\n",
    "print('k = %-3.d x1 = %-10.5f x2 = %-10.5f f(X) = %-10.5f' \n",
    "        % (k, x1_0, x2_0, f_0))\n",
    "\n",
    "while True:\n",
    "    k += 1\n",
    "    grad = grad_f(x1_0, x2_0)\n",
    "    alpha = dichotomy_method(x1_0, x2_0)\n",
    "  \n",
    "    x1_1 = x1_0 - alpha * grad[0]\n",
    "    x2_1 = x2_0 - alpha * grad[1]\n",
    "    f_1 = my_f(x1_1, x2_1)[1]\n",
    "\n",
    "    x1_0, x2_0 = x1_1, x2_1\n",
    "    f_0 = f_1\n",
    "\n",
    "    print('k = %-3.d x1 = %-10.5f x2 = %-10.5f f(X) = %-10.5f' \n",
    "        % (k, x1_0, x2_0, f_0))\n",
    "  \n",
    "    if grad_norm(x1_0, x2_0) < epsilon:\n",
    "        break"
   ]
  },
  {
   "cell_type": "markdown",
   "id": "11d77d66",
   "metadata": {},
   "source": [
    "# Недостатки реализации алгоритма\n",
    "1. Для функции `dichotomy_method(x1, x2, a=-10, b=20, epsilon=0.0001)` должен быть реализован отдельно поиск отрезка унимодальности;\n",
    "2. Метод дихотомии лучше импортировать из другого файла;\n",
    "3. Сам алгоритм стоит записать в виде функции;\n",
    "4. Избавиться от двух одинаковых `print()` в алгоритме;\n",
    "5. Нет визуализации."
   ]
  }
 ],
 "metadata": {
  "kernelspec": {
   "display_name": "Python 3 (ipykernel)",
   "language": "python",
   "name": "python3"
  },
  "language_info": {
   "codemirror_mode": {
    "name": "ipython",
    "version": 3
   },
   "file_extension": ".py",
   "mimetype": "text/x-python",
   "name": "python",
   "nbconvert_exporter": "python",
   "pygments_lexer": "ipython3",
   "version": "3.9.6"
  }
 },
 "nbformat": 4,
 "nbformat_minor": 5
}
