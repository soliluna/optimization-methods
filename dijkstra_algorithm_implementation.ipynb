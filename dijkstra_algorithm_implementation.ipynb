{
  "nbformat": 4,
  "nbformat_minor": 0,
  "metadata": {
    "colab": {
      "provenance": [],
      "collapsed_sections": []
    },
    "kernelspec": {
      "name": "python3",
      "display_name": "Python 3"
    },
    "language_info": {
      "name": "python"
    }
  },
  "cells": [
    {
      "cell_type": "code",
      "source": [
        "import numpy as np"
      ],
      "metadata": {
        "id": "w6ZbZ6lm_INx"
      },
      "execution_count": 103,
      "outputs": []
    },
    {
      "cell_type": "code",
      "source": [
        "def dijkstra_algorithm(W, s):\n",
        "    \"\"\"\n",
        "    Реализует алгоритм Дейкстры. Выводит массивы обработанных вершин, \n",
        "    наикратчайших путей из вершины s в остальные и массив предпоследних вершин.\n",
        "    \"\"\"\n",
        "    a = [0] * len(W)\n",
        "    s = s - 1\n",
        "    b = W[s]\n",
        "    c = [s + 1] * len(W)\n",
        "    a[s] = 1\n",
        "\n",
        "    while not all(a):\n",
        "        minimum = min(b, key=lambda x: x if a[b.index(x)] == 0 else np.Inf)\n",
        "        s = b.index(minimum)\n",
        "        a[s] = 1\n",
        "        # print(a)\n",
        "\n",
        "        for i in range(len(a)):\n",
        "            if a[i] == 0:\n",
        "                if b[s] + W[s][i] < b[i]:\n",
        "                    b[i] = b[s] + W[s][i]\n",
        "                    c[i] = s + 1\n",
        "                    # print(b)\n",
        "                    # print(c)\n",
        "\n",
        "    for lst, name in zip([a, b, c], ['a', 'b', 'c']):\n",
        "        print(name.ljust(3), end=' ')\n",
        "        print(*[str(j).ljust(3) for j in lst])"
      ],
      "metadata": {
        "id": "FsxDDmjXBhh9"
      },
      "execution_count": 107,
      "outputs": []
    },
    {
      "cell_type": "code",
      "execution_count": 108,
      "metadata": {
        "id": "DlgkHcKb-XDb"
      },
      "outputs": [],
      "source": [
        "W = [[0, 7, 9, np.Inf, np.Inf, 14],\n",
        "     [7, 0, 10, 15, np.Inf, np.Inf],\n",
        "     [9, 10, 0, 11, np.Inf, 2],\n",
        "     [np.Inf, 15, 11, 0, 6, np.Inf],\n",
        "     [np.Inf, np.Inf, np.Inf, 6, 0, 9],\n",
        "     [14, np.Inf, 2, np.Inf, 9, 0]]"
      ]
    },
    {
      "cell_type": "code",
      "source": [
        "dijkstra_algorithm(W, 2)"
      ],
      "metadata": {
        "colab": {
          "base_uri": "https://localhost:8080/"
        },
        "id": "ZPCcc8V-M7QD",
        "outputId": "6eb528b9-14f3-4966-9de4-974df4ffe404"
      },
      "execution_count": 109,
      "outputs": [
        {
          "output_type": "stream",
          "name": "stdout",
          "text": [
            "a   1   1   1   1   1   1  \n",
            "b   7   0   10  15  21  12 \n",
            "c   2   2   2   2   6   3  \n"
          ]
        }
      ]
    },
    {
      "cell_type": "code",
      "source": [
        "# помощь для понимания работы ключа сравнения\n",
        "a = [1, 1, 1, 1, 0, 0]\n",
        "b = [7, 0, 10, 15, 1000, 12]\n",
        "minimum = min(b, key=lambda x: x if a[b.index(x)] == 0 else np.Inf)\n",
        "minimum"
      ],
      "metadata": {
        "id": "z4RTbRzdAs70",
        "colab": {
          "base_uri": "https://localhost:8080/"
        },
        "outputId": "e09ed508-6a51-4b28-a665-17c9cd80c3ea"
      },
      "execution_count": 72,
      "outputs": [
        {
          "output_type": "execute_result",
          "data": {
            "text/plain": [
              "12"
            ]
          },
          "metadata": {},
          "execution_count": 72
        }
      ]
    },
    {
      "cell_type": "code",
      "source": [
        "# помощь для понимания работы высшей функции map\n",
        "list(map(lambda x: x if a[b.index(x)] == 0 else np.Inf, b))"
      ],
      "metadata": {
        "colab": {
          "base_uri": "https://localhost:8080/"
        },
        "id": "rhdwsmYPH1JO",
        "outputId": "1add3375-b626-4feb-991e-b12e91b62b3c"
      },
      "execution_count": 71,
      "outputs": [
        {
          "output_type": "execute_result",
          "data": {
            "text/plain": [
              "[inf, inf, inf, inf, 1000, 12]"
            ]
          },
          "metadata": {},
          "execution_count": 71
        }
      ]
    }
  ]
}
