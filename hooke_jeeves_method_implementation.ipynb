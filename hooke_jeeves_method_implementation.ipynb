{
  "nbformat": 4,
  "nbformat_minor": 0,
  "metadata": {
    "colab": {
      "provenance": [],
      "collapsed_sections": [
        "ThZODt60LA8c",
        "C1upUWIGLKDi"
      ]
    },
    "kernelspec": {
      "name": "python3",
      "display_name": "Python 3"
    },
    "language_info": {
      "name": "python"
    }
  },
  "cells": [
    {
      "cell_type": "code",
      "source": [
        "import math as m"
      ],
      "metadata": {
        "id": "6Ci7LLpxdpzz"
      },
      "execution_count": null,
      "outputs": []
    },
    {
      "cell_type": "markdown",
      "source": [
        "# Необходимые функции для реализации алгоритма"
      ],
      "metadata": {
        "id": "ThZODt60LA8c"
      }
    },
    {
      "cell_type": "code",
      "execution_count": null,
      "metadata": {
        "id": "qTi92umvxGIL"
      },
      "outputs": [],
      "source": [
        "def my_func(x1, x2):\n",
        "  \"\"\"Возвращает значение заданной функции двух переменных.\"\"\"\n",
        "  return 2 * m.pow(x1, 2) + 5 * m.pow(x2, 2) + x1 * x2 - 3 * x1 - x2"
      ]
    },
    {
      "cell_type": "code",
      "source": [
        "def first_type_of_the_exploratory_search(X_base_0, f_base_0, delta, epsilon):\n",
        "  \"\"\"\n",
        "  Реализует исследующий поиск типа I: определяет направление движения.\n",
        "  Возвращает координаты новой базисной точки и значение функции в ней.\n",
        "  \"\"\"\n",
        "  # этот флаг в дальнейшем будет завершать основной цикл алгоритма\n",
        "  flag = True\n",
        "\n",
        "  while flag:\n",
        "    x1_1 = X_base_0[0] + delta\n",
        "    f = my_func(x1_1, X_base_0[1])     \n",
        "    if f < f_base_0:                   \n",
        "      x2_1 = X_base_0[1] + delta\n",
        "      f_1 = my_func(x1_1, x2_1)\n",
        "      if f_1 < f_base_0:\n",
        "        X_base_1 = [x1_1, x2_1]\n",
        "        f_base_1 = f_1\n",
        "        break\n",
        "      else:\n",
        "        x2_1 = X_base_0[1] - delta\n",
        "        f_1 = my_func(x1_1, x2_1)\n",
        "        if f_1 < f_base_0:\n",
        "          X_base_1 = [x1_1, x2_1]\n",
        "          f_base_1 = f_1\n",
        "          break\n",
        "        else:\n",
        "          # чтобы сохранить единый стиль\n",
        "          x2_1 = X_base_0[1]\n",
        "          f_1 = my_func(x1_1, x2_1)\n",
        "          X_base_1 = [x1_1, x2_1]\n",
        "          f_base_1 = f_1\n",
        "          break\n",
        "    else:\n",
        "      x1_1 = X_base_0[0] - delta\n",
        "      f = my_func(x1_1, X_base_0[1])\n",
        "      if f < f_base_0:\n",
        "        x2_1 = X_base_0[1] + delta\n",
        "        f_1 = my_func(x1_1, x2_1)\n",
        "        if f_1 < f_base_0:\n",
        "          X_base_1 = [x1_1, x2_1]\n",
        "          f_base_1 = f_1\n",
        "          break\n",
        "        else:\n",
        "          x2_1 = X_base_0[1] - delta\n",
        "          f_1 = my_func(x1_1, x2_1)\n",
        "          if f_1 < f_base_0:\n",
        "            X_base_1 = [x1_1, x2_1]\n",
        "            f_base_1 = f_1\n",
        "            break\n",
        "          else:\n",
        "            # чтобы сохранить единый стиль\n",
        "            x2_1 = X_base_0[1]\n",
        "            f_1 = my_func(x1_1, x2_1)\n",
        "            X_base_1 = [x1_1, x2_1]\n",
        "            f_base_1 = f_1\n",
        "            break\n",
        "      else:\n",
        "        x2_1 = X_base_0[1] + delta\n",
        "        f = my_func(X_base_0[0], x2_1)\n",
        "        if f < f_base_0:\n",
        "          # чтобы сохранить единый стиль\n",
        "          x1_1 = X_base_0[0]\n",
        "          f_1 = my_func(x1_1, x2_1)\n",
        "          X_base_1 = [x1_1, x2_1]\n",
        "          f_base_1 = f_1\n",
        "          break\n",
        "        else:\n",
        "          x2_1 = X_base_0[1] - delta\n",
        "          f = my_func(X_base_0[0], x2_1)\n",
        "          if f < f_base_0:\n",
        "            # чтобы сохранить единый стиль\n",
        "            x1_1 = X_base_0[0]\n",
        "            f_1 = my_func(x1_1, x2_1)\n",
        "            X_base_1 = [x1_1, x2_1]\n",
        "            f_base_1 = f_1\n",
        "            break\n",
        "          else:\n",
        "            if delta < epsilon:\n",
        "              flag = False\n",
        "              X_base_1 = X_base_0  # остались там же\n",
        "              f_base_1 = f_base_0  # перезаписываем, чтобы return работал верно\n",
        "              break\n",
        "            else:\n",
        "              delta /= 10\n",
        "  return X_base_1, f_base_1, flag"
      ],
      "metadata": {
        "id": "i3DrOvKrJVOW"
      },
      "execution_count": null,
      "outputs": []
    },
    {
      "cell_type": "code",
      "source": [
        "def pattern_search(X_base_0, X_base_1):\n",
        "  \"\"\"\n",
        "  Реализует поиск точки по образцу. Возвращает координаты новой точки \n",
        "  и значение функции в ней.\n",
        "  \"\"\"\n",
        "  x1_2 = 2 * X_base_1[0] - X_base_0[0]\n",
        "  x2_2 = 2 * X_base_1[1] - X_base_0[1]\n",
        "  X_2 = [x1_2, x2_2]                          \n",
        "  f_2 = my_func(x1_2, x2_2)\n",
        "  return X_2, f_2"
      ],
      "metadata": {
        "id": "wTYyyLpLqcmJ"
      },
      "execution_count": null,
      "outputs": []
    },
    {
      "cell_type": "code",
      "source": [
        "def second_type_of_the_exploratory_search(X_2, f_2):\n",
        "  \"\"\"\n",
        "  Реализует исследующий поиск типа II:\n",
        "  проверка, был ли поиск по образцу из базисной точки удачным.\n",
        "  Если да, то находится новая базисная точка, иначе переходит к \n",
        "  исследующему поиску типа I для определения нового направления движения \n",
        "  из базисной точки.\n",
        "  \"\"\"\n",
        "  x1_3 = X_2[0] + delta\n",
        "  f = my_func(x1_3, X_2[1])     \n",
        "  if f < f_2:                   \n",
        "    x2_3 = X_2[1] + delta\n",
        "    f_3 = my_func(x1_3, x2_3)\n",
        "    if f_3 < f_2:\n",
        "      X_base_3 = [x1_3, x2_3]\n",
        "      f_base_3 = f_3\n",
        "    else:\n",
        "      x2_3 = X_2[1] - delta\n",
        "      f_3 = my_func(x1_3, x2_3)\n",
        "      if f_3 < f_2:\n",
        "        X_base_3 = [x1_3, x2_3]\n",
        "        f_base_3 = f_3\n",
        "      else:\n",
        "        # чтобы сохранить единый стиль\n",
        "        x2_3 = X_2[1]\n",
        "        f_3 = my_func(x1_3, x2_3)\n",
        "        X_base_3 = [x1_3, x2_3]\n",
        "        f_base_3 = f_3\n",
        "  else:\n",
        "    x1_3 = X_2[0] - delta\n",
        "    f = my_func(x1_3, X_2[1])\n",
        "    if f < f_2:\n",
        "      x2_3 = X_2[1] + delta\n",
        "      f_3 = my_func(x1_3, x2_3)\n",
        "      if f_3 < f_2:\n",
        "        X_base_3 = [x1_3, x2_3]\n",
        "        f_base_3 = f_3\n",
        "      else:\n",
        "        x2_3 = X_2[1] - delta\n",
        "        f_3 = my_func(x1_3, x2_3)\n",
        "        if f_3 < f_2:\n",
        "          X_base_3 = [x1_3, x2_3]\n",
        "          f_base_3 = f_3\n",
        "        else:\n",
        "          # чтобы сохранить единый стиль\n",
        "          x2_3 = X_base_0[1]\n",
        "          f_3 = my_func(x1_3, x2_3)\n",
        "          X_base_3 = [x1_3, x2_3]\n",
        "          f_base_3 = f_3\n",
        "    else:\n",
        "      x2_3 = X_2[1] + delta\n",
        "      f = my_func(X_base_0[0], x2_3)\n",
        "      if f < f_2:\n",
        "        # чтобы сохранить единый стиль\n",
        "        x1_3 = X_base_0[0]\n",
        "        f_3 = my_func(x1_3, x2_3)\n",
        "        X_base_3 = [x1_3, x2_3]\n",
        "        f_base_3 = f_3\n",
        "      else:\n",
        "        x2_3 = X_2[1] - delta\n",
        "        f = my_func(X_base_0[0], x2_3)\n",
        "        if f < f_2:\n",
        "          # чтобы сохранить единый стиль\n",
        "          x1_3 = X_base_0[0]\n",
        "          f_3 = my_func(x1_3, x2_3)\n",
        "          X_base_3 = [x1_3, x2_3]\n",
        "          f_base_3 = f_3\n",
        "        else:\n",
        "          # остались в той же точке\n",
        "          X_base_3 = X_2\n",
        "          f_base_3 = f_2\n",
        "  return X_base_3, f_base_3"
      ],
      "metadata": {
        "id": "lXdijHBOtrPl"
      },
      "execution_count": null,
      "outputs": []
    },
    {
      "cell_type": "markdown",
      "source": [
        "# Реализация алгоритма"
      ],
      "metadata": {
        "id": "C1upUWIGLKDi"
      }
    },
    {
      "cell_type": "code",
      "source": [
        "delta = 0.1\n",
        "epsilon = 0.0001\n",
        "x1_0, x2_0 = 1, 1\n",
        "f_0 = my_func(x1_0, x2_0)\n",
        "X_base_0 = [x1_0, x2_0]\n",
        "f_base_0 = f_0\n",
        "\n",
        "flag = True\n",
        "k = 0\n",
        "\n",
        "while flag:\n",
        "  k += 1\n",
        "  print('k = %-3.d x1 = %-10.5f x2 = %-10.5f f(X) = %-10.5f' % (k, X_base_0[0], X_base_0[1], f_base_0))\n",
        "  X_base_1, f_base_1, flag = first_type_of_the_exploratory_search(X_base_0, f_base_0, delta, epsilon)\n",
        "\n",
        "  if f_base_1 < f_base_0:\n",
        "\n",
        "    while True:\n",
        "      X_2, f_2 = pattern_search(X_base_0, X_base_1)\n",
        "      X_base_3, f_base_3 = second_type_of_the_exploratory_search(X_2, f_2)\n",
        "  \n",
        "      if f_base_3 < f_base_1:\n",
        "          X_base_0, f_base_0 = X_base_1, f_base_1\n",
        "          X_base_1, f_base_1 = X_base_3, f_base_3\n",
        "      else:\n",
        "        X_base_0 = X_base_1\n",
        "        f_base_0 = f_base_1\n",
        "        break\n",
        "\n",
        "print('\\nКоличество итераций:', k)\n",
        "print('Оценка X*: x1 = %.3f, x2 = %.3f' % (X_base_0[0], X_base_0[1]))\n",
        "print('Оценка f(X*): %.3f' % f_base_0)"
      ],
      "metadata": {
        "colab": {
          "base_uri": "https://localhost:8080/"
        },
        "id": "XR9of7J-nhe6",
        "outputId": "bdcc381b-a090-4186-9057-006863ef8e1e"
      },
      "execution_count": null,
      "outputs": [
        {
          "output_type": "stream",
          "name": "stdout",
          "text": [
            "k = 1   x1 = 1.00000    x2 = 1.00000    f(X) = 4.00000   \n",
            "k = 2   x1 = 0.60000    x2 = 0.00000    f(X) = -1.08000  \n",
            "k = 3   x1 = 0.70000    x2 = 0.10000    f(X) = -1.10000  \n",
            "k = 4   x1 = 0.80000    x2 = 0.00000    f(X) = -1.12000  \n",
            "k = 5   x1 = 0.77000    x2 = 0.03000    f(X) = -1.12660  \n",
            "k = 6   x1 = 0.76000    x2 = 0.02000    f(X) = -1.12760  \n",
            "k = 7   x1 = 0.75000    x2 = 0.03000    f(X) = -1.12800  \n",
            "k = 8   x1 = 0.74000    x2 = 0.03000    f(X) = -1.12810  \n",
            "k = 9   x1 = 0.74400    x2 = 0.02600    f(X) = -1.12820  \n",
            "k = 10  x1 = 0.74360    x2 = 0.02560    f(X) = -1.12821  \n",
            "k = 11  x1 = 0.74360    x2 = 0.02564    f(X) = -1.12821  \n",
            "k = 12  x1 = 0.74359    x2 = 0.02564    f(X) = -1.12821  \n",
            "\n",
            "Количество итераций: 12\n",
            "Оценка X*: x1 = 0.744, x2 = 0.026\n",
            "Оценка f(X*): -1.128\n"
          ]
        }
      ]
    }
  ]
}
